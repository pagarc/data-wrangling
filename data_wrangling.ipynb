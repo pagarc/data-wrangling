{
 "cells": [
  {
   "cell_type": "markdown",
   "metadata": {},
   "source": [
    "Using data from DC's 311 service request center and the US Census Bureau, I looked at how DC household income can relate to  service requests made in 2014. Specifically, I wanted to see if there was a relationship between average income and the frequency of 311 requests.\n",
    "\n",
    "DC is divided in to eight Wards, and they all differ economically. I used data from the US Census Bureau's American Community Survey to find these differences regarding mean and median income. Although I looked at both mean and median household income, the median would be a more accurate measure, since the mean is likely to be skewed by outliers. I combined the income data with 311 request data provided from Open Data DC. This data is a record of all DC 311 calls made in 2014, and they are sorted into various categories. Some of these categories include trash collection, potholes, and parking issues. For this analysis, I narrowed down the categories to parking requests and non-parking requests. In addition, I cleaned this data by recoding the Ward column so each row only has the Ward number (eg. 1), and I fixed inconsistency errors in the service code description column.\n",
    "\n",
    "To successfully answer my research question, I had to wrangle data between the 311 requests and Ward income data sets. At first, I tried merging, subsetting, then aggregating. I then realized I should merge last since I lost the income data as I aggregated. Thus, the final order that I used was subsetting, aggregating, then merging. I first subset the 311 request data into two additional data sets--one for parking requests, and one for non-parking requests. I then aggregated the data in both the parking data set and the non-parking data set to get the number of 311 requests for each Ward. Finally, I merged the 311 request data with the income data, so each Ward's median and mean incomes could be could be compared to the number of 311 requests made.\n",
    "\n",
    "Upon visualizing the data, I concluded that income does affect the number of 311 parking requests made, but it does not affect non-parking requests. Disregarding Ward 3, the number of parking requests seem to increase as the median income increases. Non-parking requests do not follow the same pattern, since Ward 4 makes the most requests without having the highest median income. However, for both parking and non-parking requests, Ward 8 makes the least amount of requests as the lowest earning Ward. Visualizing the data also illustrated the difference between the mean and the median incomes for each Ward. The mean income was higher across all Wards because the top earning individuals in each Ward skew the mean upwards.\n",
    "\n",
    "The main takeaway from the data is that a DC Ward with a higher average income is more likely to have a higher amount of 311 parking requests, while Ward average income does not affect non-parking 311 requests.\n",
    "\n",
    "A limitation in the 311 data is that since it is collected from human input, there are bound to be errors. Additionally, each service code description category is also decided upon by the city, so actual requests may not fit into the categories they are assigned. A limitation in the income data is that we do not know which factors determine each Ward's average income from the data. Confounding variables such as geographic location and jobs available in each Ward contribute to this. A limitation in the analysis is that no statistical tests were performed to confirm my findings. I made my conclusions through looking at the data in tabular format and visualizations.\n",
    "\n",
    "References\n",
    "\n",
    "Open Data DC. (2019). 311 City Service Requests in 2014 [Data file]. Retrieved from\n",
    "https://opendata.dc.gov/datasets/311-city-service-requests-in-2014\n",
    "\n",
    "United States Census Bureau. (2014). American Community Survey.\n"
   ]
  },
  {
   "cell_type": "code",
   "execution_count": 1,
   "metadata": {},
   "outputs": [],
   "source": [
    "import pandas as pd\n",
    "import numpy as np\n",
    "import matplotlib.pyplot as plt\n",
    "%matplotlib inline"
   ]
  },
  {
   "cell_type": "code",
   "execution_count": 2,
   "metadata": {},
   "outputs": [],
   "source": [
    "requests = pd.read_csv(\"./DC311_2014.csv\")\n",
    "income = pd.read_csv(\"./WardIncome.csv\")"
   ]
  },
  {
   "cell_type": "code",
   "execution_count": 3,
   "metadata": {},
   "outputs": [
    {
     "name": "stdout",
     "output_type": "stream",
     "text": [
      "(132045, 31)\n"
     ]
    }
   ],
   "source": [
    "# Subset to create data set of only parking requests\n",
    "parking_req = requests.loc[requests[\"SERVICECODEDESCRIPTION\"].isin([\"Emergency No-Parking Verification\",\"Out of State Parking Violation (ROSA)\",\"Parking Enforcement\",\"Parking Meter Repair\",\"Resident Parking Permit\",\"Residential Parking Permit Violation\"])]\n",
    "parking_req = parking_req.reset_index()\n",
    "print(parking_req.shape)"
   ]
  },
  {
   "cell_type": "code",
   "execution_count": 4,
   "metadata": {},
   "outputs": [
    {
     "data": {
      "text/html": [
       "<div>\n",
       "<style scoped>\n",
       "    .dataframe tbody tr th:only-of-type {\n",
       "        vertical-align: middle;\n",
       "    }\n",
       "\n",
       "    .dataframe tbody tr th {\n",
       "        vertical-align: top;\n",
       "    }\n",
       "\n",
       "    .dataframe thead th {\n",
       "        text-align: right;\n",
       "    }\n",
       "</style>\n",
       "<table border=\"1\" class=\"dataframe\">\n",
       "  <thead>\n",
       "    <tr style=\"text-align: right;\">\n",
       "      <th></th>\n",
       "      <th>WARD</th>\n",
       "      <th>COUNT</th>\n",
       "    </tr>\n",
       "  </thead>\n",
       "  <tbody>\n",
       "    <tr>\n",
       "      <th>0</th>\n",
       "      <td>1</td>\n",
       "      <td>10850</td>\n",
       "    </tr>\n",
       "    <tr>\n",
       "      <th>1</th>\n",
       "      <td>2</td>\n",
       "      <td>66073</td>\n",
       "    </tr>\n",
       "    <tr>\n",
       "      <th>2</th>\n",
       "      <td>3</td>\n",
       "      <td>9184</td>\n",
       "    </tr>\n",
       "    <tr>\n",
       "      <th>3</th>\n",
       "      <td>4</td>\n",
       "      <td>5212</td>\n",
       "    </tr>\n",
       "    <tr>\n",
       "      <th>4</th>\n",
       "      <td>5</td>\n",
       "      <td>6082</td>\n",
       "    </tr>\n",
       "    <tr>\n",
       "      <th>5</th>\n",
       "      <td>6</td>\n",
       "      <td>30342</td>\n",
       "    </tr>\n",
       "    <tr>\n",
       "      <th>6</th>\n",
       "      <td>7</td>\n",
       "      <td>2346</td>\n",
       "    </tr>\n",
       "    <tr>\n",
       "      <th>7</th>\n",
       "      <td>8</td>\n",
       "      <td>1955</td>\n",
       "    </tr>\n",
       "  </tbody>\n",
       "</table>\n",
       "</div>"
      ],
      "text/plain": [
       "   WARD  COUNT\n",
       "0     1  10850\n",
       "1     2  66073\n",
       "2     3   9184\n",
       "3     4   5212\n",
       "4     5   6082\n",
       "5     6  30342\n",
       "6     7   2346\n",
       "7     8   1955"
      ]
     },
     "execution_count": 4,
     "metadata": {},
     "output_type": "execute_result"
    }
   ],
   "source": [
    "# Aggregate parking requests by Ward\n",
    "parking_req_by_ward = parking_req[[\"WARD\",\"OBJECTID\"]].groupby([\"WARD\"]).agg(\"count\")\n",
    "parking_req_by_ward = parking_req_by_ward.reset_index().astype(np.int64) # remove \".0\" from Ward\n",
    "parking_req_by_ward.columns = [\"WARD\",\"COUNT\"]\n",
    "parking_req_by_ward"
   ]
  },
  {
   "cell_type": "code",
   "execution_count": 5,
   "metadata": {},
   "outputs": [
    {
     "name": "stdout",
     "output_type": "stream",
     "text": [
      "(190933, 31)\n"
     ]
    }
   ],
   "source": [
    "# Subset to create data set of NON-parking requests\n",
    "# ~ = NOT in\n",
    "non_parking_req = requests.loc[~requests[\"SERVICECODEDESCRIPTION\"].isin([\"Emergency No-Parking Verification\",\"Out of State Parking Violation (ROSA)\",\"Parking Enforcement\",\"Parking Meter Repair\",\"Resident Parking Permit\",\"Residential Parking Permit Violation\"])]\n",
    "non_parking_req = non_parking_req.reset_index()\n",
    "print(non_parking_req.shape)"
   ]
  },
  {
   "cell_type": "code",
   "execution_count": 6,
   "metadata": {},
   "outputs": [
    {
     "data": {
      "text/html": [
       "<div>\n",
       "<style scoped>\n",
       "    .dataframe tbody tr th:only-of-type {\n",
       "        vertical-align: middle;\n",
       "    }\n",
       "\n",
       "    .dataframe tbody tr th {\n",
       "        vertical-align: top;\n",
       "    }\n",
       "\n",
       "    .dataframe thead th {\n",
       "        text-align: right;\n",
       "    }\n",
       "</style>\n",
       "<table border=\"1\" class=\"dataframe\">\n",
       "  <thead>\n",
       "    <tr style=\"text-align: right;\">\n",
       "      <th></th>\n",
       "      <th>WARD</th>\n",
       "      <th>COUNT</th>\n",
       "    </tr>\n",
       "  </thead>\n",
       "  <tbody>\n",
       "    <tr>\n",
       "      <th>0</th>\n",
       "      <td>1</td>\n",
       "      <td>18574</td>\n",
       "    </tr>\n",
       "    <tr>\n",
       "      <th>1</th>\n",
       "      <td>2</td>\n",
       "      <td>16967</td>\n",
       "    </tr>\n",
       "    <tr>\n",
       "      <th>2</th>\n",
       "      <td>3</td>\n",
       "      <td>21804</td>\n",
       "    </tr>\n",
       "    <tr>\n",
       "      <th>3</th>\n",
       "      <td>4</td>\n",
       "      <td>34290</td>\n",
       "    </tr>\n",
       "    <tr>\n",
       "      <th>4</th>\n",
       "      <td>5</td>\n",
       "      <td>30187</td>\n",
       "    </tr>\n",
       "    <tr>\n",
       "      <th>5</th>\n",
       "      <td>6</td>\n",
       "      <td>29911</td>\n",
       "    </tr>\n",
       "    <tr>\n",
       "      <th>6</th>\n",
       "      <td>7</td>\n",
       "      <td>24138</td>\n",
       "    </tr>\n",
       "    <tr>\n",
       "      <th>7</th>\n",
       "      <td>8</td>\n",
       "      <td>15059</td>\n",
       "    </tr>\n",
       "  </tbody>\n",
       "</table>\n",
       "</div>"
      ],
      "text/plain": [
       "   WARD  COUNT\n",
       "0     1  18574\n",
       "1     2  16967\n",
       "2     3  21804\n",
       "3     4  34290\n",
       "4     5  30187\n",
       "5     6  29911\n",
       "6     7  24138\n",
       "7     8  15059"
      ]
     },
     "execution_count": 6,
     "metadata": {},
     "output_type": "execute_result"
    }
   ],
   "source": [
    "# Aggregate non-parking requests by Ward\n",
    "non_parking_req_by_ward = non_parking_req[[\"WARD\",\"OBJECTID\"]].groupby([\"WARD\"]).agg(\"count\")\n",
    "non_parking_req_by_ward = non_parking_req_by_ward.reset_index().astype(np.int64) # remove \".0\" from Ward\n",
    "non_parking_req_by_ward.columns = [\"WARD\",\"COUNT\"]\n",
    "non_parking_req_by_ward"
   ]
  },
  {
   "cell_type": "code",
   "execution_count": 7,
   "metadata": {},
   "outputs": [
    {
     "data": {
      "text/html": [
       "<div>\n",
       "<style scoped>\n",
       "    .dataframe tbody tr th:only-of-type {\n",
       "        vertical-align: middle;\n",
       "    }\n",
       "\n",
       "    .dataframe tbody tr th {\n",
       "        vertical-align: top;\n",
       "    }\n",
       "\n",
       "    .dataframe thead th {\n",
       "        text-align: right;\n",
       "    }\n",
       "</style>\n",
       "<table border=\"1\" class=\"dataframe\">\n",
       "  <thead>\n",
       "    <tr style=\"text-align: right;\">\n",
       "      <th></th>\n",
       "      <th>WARD</th>\n",
       "      <th>COUNT_park</th>\n",
       "      <th>COUNT_nonpark</th>\n",
       "    </tr>\n",
       "  </thead>\n",
       "  <tbody>\n",
       "    <tr>\n",
       "      <th>0</th>\n",
       "      <td>1</td>\n",
       "      <td>10850</td>\n",
       "      <td>18574</td>\n",
       "    </tr>\n",
       "    <tr>\n",
       "      <th>1</th>\n",
       "      <td>2</td>\n",
       "      <td>66073</td>\n",
       "      <td>16967</td>\n",
       "    </tr>\n",
       "    <tr>\n",
       "      <th>2</th>\n",
       "      <td>3</td>\n",
       "      <td>9184</td>\n",
       "      <td>21804</td>\n",
       "    </tr>\n",
       "    <tr>\n",
       "      <th>3</th>\n",
       "      <td>4</td>\n",
       "      <td>5212</td>\n",
       "      <td>34290</td>\n",
       "    </tr>\n",
       "    <tr>\n",
       "      <th>4</th>\n",
       "      <td>5</td>\n",
       "      <td>6082</td>\n",
       "      <td>30187</td>\n",
       "    </tr>\n",
       "    <tr>\n",
       "      <th>5</th>\n",
       "      <td>6</td>\n",
       "      <td>30342</td>\n",
       "      <td>29911</td>\n",
       "    </tr>\n",
       "    <tr>\n",
       "      <th>6</th>\n",
       "      <td>7</td>\n",
       "      <td>2346</td>\n",
       "      <td>24138</td>\n",
       "    </tr>\n",
       "    <tr>\n",
       "      <th>7</th>\n",
       "      <td>8</td>\n",
       "      <td>1955</td>\n",
       "      <td>15059</td>\n",
       "    </tr>\n",
       "  </tbody>\n",
       "</table>\n",
       "</div>"
      ],
      "text/plain": [
       "   WARD  COUNT_park  COUNT_nonpark\n",
       "0     1       10850          18574\n",
       "1     2       66073          16967\n",
       "2     3        9184          21804\n",
       "3     4        5212          34290\n",
       "4     5        6082          30187\n",
       "5     6       30342          29911\n",
       "6     7        2346          24138\n",
       "7     8        1955          15059"
      ]
     },
     "execution_count": 7,
     "metadata": {},
     "output_type": "execute_result"
    }
   ],
   "source": [
    "# Merge parking and non-parking requests\n",
    "all_req_by_ward = pd.merge(parking_req_by_ward,non_parking_req_by_ward,how=\"outer\",on=\"WARD\",suffixes=[\"_park\",\"_nonpark\"])\n",
    "all_req_by_ward"
   ]
  },
  {
   "cell_type": "code",
   "execution_count": 8,
   "metadata": {},
   "outputs": [
    {
     "data": {
      "text/html": [
       "<div>\n",
       "<style scoped>\n",
       "    .dataframe tbody tr th:only-of-type {\n",
       "        vertical-align: middle;\n",
       "    }\n",
       "\n",
       "    .dataframe tbody tr th {\n",
       "        vertical-align: top;\n",
       "    }\n",
       "\n",
       "    .dataframe thead th {\n",
       "        text-align: right;\n",
       "    }\n",
       "</style>\n",
       "<table border=\"1\" class=\"dataframe\">\n",
       "  <thead>\n",
       "    <tr style=\"text-align: right;\">\n",
       "      <th></th>\n",
       "      <th>WARD</th>\n",
       "      <th>MEDIANINCOME</th>\n",
       "      <th>MEANINCOME</th>\n",
       "    </tr>\n",
       "  </thead>\n",
       "  <tbody>\n",
       "    <tr>\n",
       "      <th>0</th>\n",
       "      <td>1</td>\n",
       "      <td>82159</td>\n",
       "      <td>106388</td>\n",
       "    </tr>\n",
       "    <tr>\n",
       "      <th>1</th>\n",
       "      <td>2</td>\n",
       "      <td>100388</td>\n",
       "      <td>140459</td>\n",
       "    </tr>\n",
       "    <tr>\n",
       "      <th>2</th>\n",
       "      <td>3</td>\n",
       "      <td>112873</td>\n",
       "      <td>176921</td>\n",
       "    </tr>\n",
       "    <tr>\n",
       "      <th>3</th>\n",
       "      <td>4</td>\n",
       "      <td>74600</td>\n",
       "      <td>111933</td>\n",
       "    </tr>\n",
       "    <tr>\n",
       "      <th>4</th>\n",
       "      <td>5</td>\n",
       "      <td>57554</td>\n",
       "      <td>77329</td>\n",
       "    </tr>\n",
       "    <tr>\n",
       "      <th>5</th>\n",
       "      <td>6</td>\n",
       "      <td>94343</td>\n",
       "      <td>117002</td>\n",
       "    </tr>\n",
       "    <tr>\n",
       "      <th>6</th>\n",
       "      <td>7</td>\n",
       "      <td>39165</td>\n",
       "      <td>53093</td>\n",
       "    </tr>\n",
       "    <tr>\n",
       "      <th>7</th>\n",
       "      <td>8</td>\n",
       "      <td>30910</td>\n",
       "      <td>44245</td>\n",
       "    </tr>\n",
       "  </tbody>\n",
       "</table>\n",
       "</div>"
      ],
      "text/plain": [
       "   WARD  MEDIANINCOME  MEANINCOME\n",
       "0     1         82159      106388\n",
       "1     2        100388      140459\n",
       "2     3        112873      176921\n",
       "3     4         74600      111933\n",
       "4     5         57554       77329\n",
       "5     6         94343      117002\n",
       "6     7         39165       53093\n",
       "7     8         30910       44245"
      ]
     },
     "execution_count": 8,
     "metadata": {},
     "output_type": "execute_result"
    }
   ],
   "source": [
    "# Clean up Ward names\n",
    "income.columns = [\"WARD\",\"MEDIANINCOME\",\"MEANINCOME\"]\n",
    "income"
   ]
  },
  {
   "cell_type": "code",
   "execution_count": 9,
   "metadata": {},
   "outputs": [
    {
     "data": {
      "text/html": [
       "<div>\n",
       "<style scoped>\n",
       "    .dataframe tbody tr th:only-of-type {\n",
       "        vertical-align: middle;\n",
       "    }\n",
       "\n",
       "    .dataframe tbody tr th {\n",
       "        vertical-align: top;\n",
       "    }\n",
       "\n",
       "    .dataframe thead th {\n",
       "        text-align: right;\n",
       "    }\n",
       "</style>\n",
       "<table border=\"1\" class=\"dataframe\">\n",
       "  <thead>\n",
       "    <tr style=\"text-align: right;\">\n",
       "      <th></th>\n",
       "      <th>WARD</th>\n",
       "      <th>COUNT_park</th>\n",
       "      <th>COUNT_nonpark</th>\n",
       "      <th>MEDIANINCOME</th>\n",
       "      <th>MEANINCOME</th>\n",
       "    </tr>\n",
       "  </thead>\n",
       "  <tbody>\n",
       "    <tr>\n",
       "      <th>0</th>\n",
       "      <td>1</td>\n",
       "      <td>10850</td>\n",
       "      <td>18574</td>\n",
       "      <td>82159</td>\n",
       "      <td>106388</td>\n",
       "    </tr>\n",
       "    <tr>\n",
       "      <th>1</th>\n",
       "      <td>2</td>\n",
       "      <td>66073</td>\n",
       "      <td>16967</td>\n",
       "      <td>100388</td>\n",
       "      <td>140459</td>\n",
       "    </tr>\n",
       "    <tr>\n",
       "      <th>2</th>\n",
       "      <td>3</td>\n",
       "      <td>9184</td>\n",
       "      <td>21804</td>\n",
       "      <td>112873</td>\n",
       "      <td>176921</td>\n",
       "    </tr>\n",
       "    <tr>\n",
       "      <th>3</th>\n",
       "      <td>4</td>\n",
       "      <td>5212</td>\n",
       "      <td>34290</td>\n",
       "      <td>74600</td>\n",
       "      <td>111933</td>\n",
       "    </tr>\n",
       "    <tr>\n",
       "      <th>4</th>\n",
       "      <td>5</td>\n",
       "      <td>6082</td>\n",
       "      <td>30187</td>\n",
       "      <td>57554</td>\n",
       "      <td>77329</td>\n",
       "    </tr>\n",
       "  </tbody>\n",
       "</table>\n",
       "</div>"
      ],
      "text/plain": [
       "   WARD  COUNT_park  COUNT_nonpark  MEDIANINCOME  MEANINCOME\n",
       "0     1       10850          18574         82159      106388\n",
       "1     2       66073          16967        100388      140459\n",
       "2     3        9184          21804        112873      176921\n",
       "3     4        5212          34290         74600      111933\n",
       "4     5        6082          30187         57554       77329"
      ]
     },
     "execution_count": 9,
     "metadata": {},
     "output_type": "execute_result"
    }
   ],
   "source": [
    "# Merge with income data\n",
    "req_income = pd.merge(all_req_by_ward,income,how=\"outer\",on=\"WARD\",suffixes=[\"_req\",\"_inc\"])\n",
    "req_income.head()"
   ]
  },
  {
   "cell_type": "code",
   "execution_count": 10,
   "metadata": {
    "scrolled": true
   },
   "outputs": [
    {
     "data": {
      "text/html": [
       "<div>\n",
       "<style scoped>\n",
       "    .dataframe tbody tr th:only-of-type {\n",
       "        vertical-align: middle;\n",
       "    }\n",
       "\n",
       "    .dataframe tbody tr th {\n",
       "        vertical-align: top;\n",
       "    }\n",
       "\n",
       "    .dataframe thead th {\n",
       "        text-align: right;\n",
       "    }\n",
       "</style>\n",
       "<table border=\"1\" class=\"dataframe\">\n",
       "  <thead>\n",
       "    <tr style=\"text-align: right;\">\n",
       "      <th></th>\n",
       "      <th>Ward</th>\n",
       "      <th>Median Income</th>\n",
       "      <th>Mean Income</th>\n",
       "      <th>Parking Requests</th>\n",
       "      <th>Non-parking Requests</th>\n",
       "      <th>Total Requests</th>\n",
       "    </tr>\n",
       "  </thead>\n",
       "  <tbody>\n",
       "    <tr>\n",
       "      <th>0</th>\n",
       "      <td>1</td>\n",
       "      <td>82159</td>\n",
       "      <td>106388</td>\n",
       "      <td>10850</td>\n",
       "      <td>18574</td>\n",
       "      <td>29424</td>\n",
       "    </tr>\n",
       "    <tr>\n",
       "      <th>1</th>\n",
       "      <td>2</td>\n",
       "      <td>100388</td>\n",
       "      <td>140459</td>\n",
       "      <td>66073</td>\n",
       "      <td>16967</td>\n",
       "      <td>83040</td>\n",
       "    </tr>\n",
       "    <tr>\n",
       "      <th>2</th>\n",
       "      <td>3</td>\n",
       "      <td>112873</td>\n",
       "      <td>176921</td>\n",
       "      <td>9184</td>\n",
       "      <td>21804</td>\n",
       "      <td>30988</td>\n",
       "    </tr>\n",
       "    <tr>\n",
       "      <th>3</th>\n",
       "      <td>4</td>\n",
       "      <td>74600</td>\n",
       "      <td>111933</td>\n",
       "      <td>5212</td>\n",
       "      <td>34290</td>\n",
       "      <td>39502</td>\n",
       "    </tr>\n",
       "    <tr>\n",
       "      <th>4</th>\n",
       "      <td>5</td>\n",
       "      <td>57554</td>\n",
       "      <td>77329</td>\n",
       "      <td>6082</td>\n",
       "      <td>30187</td>\n",
       "      <td>36269</td>\n",
       "    </tr>\n",
       "    <tr>\n",
       "      <th>5</th>\n",
       "      <td>6</td>\n",
       "      <td>94343</td>\n",
       "      <td>117002</td>\n",
       "      <td>30342</td>\n",
       "      <td>29911</td>\n",
       "      <td>60253</td>\n",
       "    </tr>\n",
       "    <tr>\n",
       "      <th>6</th>\n",
       "      <td>7</td>\n",
       "      <td>39165</td>\n",
       "      <td>53093</td>\n",
       "      <td>2346</td>\n",
       "      <td>24138</td>\n",
       "      <td>26484</td>\n",
       "    </tr>\n",
       "    <tr>\n",
       "      <th>7</th>\n",
       "      <td>8</td>\n",
       "      <td>30910</td>\n",
       "      <td>44245</td>\n",
       "      <td>1955</td>\n",
       "      <td>15059</td>\n",
       "      <td>17014</td>\n",
       "    </tr>\n",
       "  </tbody>\n",
       "</table>\n",
       "</div>"
      ],
      "text/plain": [
       "   Ward  Median Income  Mean Income  Parking Requests  Non-parking Requests  \\\n",
       "0     1          82159       106388             10850                 18574   \n",
       "1     2         100388       140459             66073                 16967   \n",
       "2     3         112873       176921              9184                 21804   \n",
       "3     4          74600       111933              5212                 34290   \n",
       "4     5          57554        77329              6082                 30187   \n",
       "5     6          94343       117002             30342                 29911   \n",
       "6     7          39165        53093              2346                 24138   \n",
       "7     8          30910        44245              1955                 15059   \n",
       "\n",
       "   Total Requests  \n",
       "0           29424  \n",
       "1           83040  \n",
       "2           30988  \n",
       "3           39502  \n",
       "4           36269  \n",
       "5           60253  \n",
       "6           26484  \n",
       "7           17014  "
      ]
     },
     "execution_count": 10,
     "metadata": {},
     "output_type": "execute_result"
    }
   ],
   "source": [
    "# Reorder columns\n",
    "req_income = req_income[[\"WARD\",\"MEDIANINCOME\",\"MEANINCOME\",\"COUNT_park\",\"COUNT_nonpark\"]]\n",
    "\n",
    "# Rename columns to be more human-readable\n",
    "req_income.columns = [\"Ward\",\"Median Income\",\"Mean Income\",\"Parking Requests\",\"Non-parking Requests\"]\n",
    "\n",
    "# Add total requests column as sum of parking and non parking requests\n",
    "req_income[\"Total Requests\"] = req_income[\"Parking Requests\"] + req_income[\"Non-parking Requests\"]\n",
    "\n",
    "req_income"
   ]
  },
  {
   "cell_type": "markdown",
   "metadata": {},
   "source": [
    "## Visualizations"
   ]
  },
  {
   "cell_type": "code",
   "execution_count": 11,
   "metadata": {},
   "outputs": [
    {
     "data": {
      "image/png": "[encoded data removed]",
      "text/plain": [
       "<Figure size 432x288 with 1 Axes>"
      ]
     },
     "metadata": {
      "needs_background": "light"
     },
     "output_type": "display_data"
    }
   ],
   "source": [
    "ax1 = req_income.plot(kind='scatter', x=\"Parking Requests\", y=\"Median Income\", color=\"salmon\")    \n",
    "ax2 = req_income.plot(kind='scatter', x=\"Parking Requests\", y=\"Mean Income\", color=\"steelblue\", ax=ax1) \n",
    "ax1.spines['top'].set_visible(False)\n",
    "ax1.spines['right'].set_visible(False)\n",
    "ax1.set_xlim(right=70000)\n",
    "plt.tick_params(axis=u'both', which=u'both',length=0)\n",
    "plt.title(\"Number of 311 Parking Requests by Income\",fontweight=\"bold\")\n",
    "plt.legend([\"Median Income\",\"Mean Income\"],loc=\"upper right\")\n",
    "plt.ylabel(\"Income\")\n",
    "plt.show()"
   ]
  },
  {
   "cell_type": "code",
   "execution_count": 12,
   "metadata": {},
   "outputs": [
    {
     "data": {
      "image/png": "[encoded data removed]",
      "text/plain": [
       "<Figure size 432x288 with 1 Axes>"
      ]
     },
     "metadata": {
      "needs_background": "light"
     },
     "output_type": "display_data"
    }
   ],
   "source": [
    "ax3 = req_income.plot(kind='scatter', x=\"Non-parking Requests\", y=\"Median Income\", color=\"salmon\")    \n",
    "ax4 = req_income.plot(kind='scatter', x=\"Non-parking Requests\", y=\"Mean Income\", color=\"steelblue\", ax=ax3) \n",
    "ax3.spines['top'].set_visible(False)\n",
    "ax3.spines['right'].set_visible(False)\n",
    "ax3.set_xlim(left=0)\n",
    "plt.tick_params(axis=u'both', which=u'both',length=0)\n",
    "plt.title(\"Number of 311 Non-parking Requests by Income\",fontweight=\"bold\")\n",
    "plt.legend([\"Median Income\",\"Mean Income\"],loc=\"upper right\")\n",
    "plt.ylabel(\"Income\")\n",
    "plt.show()"
   ]
  },
  {
   "cell_type": "code",
   "execution_count": 13,
   "metadata": {},
   "outputs": [
    {
     "data": {
      "image/png": "[encoded data removed]",
      "text/plain": [
       "<Figure size 432x288 with 1 Axes>"
      ]
     },
     "metadata": {
      "needs_background": "light"
     },
     "output_type": "display_data"
    }
   ],
   "source": [
    "ax5 = req_income.plot(kind='scatter', x=\"Total Requests\", y=\"Median Income\", color=\"salmon\")    \n",
    "ax6 = req_income.plot(kind='scatter', x=\"Total Requests\", y=\"Mean Income\", color=\"steelblue\", ax=ax5) \n",
    "ax5.spines['top'].set_visible(False)\n",
    "ax5.spines['right'].set_visible(False)\n",
    "ax5.set_xlim(left=0,right=90000)\n",
    "plt.tick_params(axis=u'both', which=u'both',length=0)\n",
    "plt.title(\"Number of Total 311 Requests by Income\",fontweight=\"bold\")\n",
    "plt.legend([\"Median Income\",\"Mean Income\"],loc=\"upper right\")\n",
    "plt.ylabel(\"Income\")\n",
    "plt.show()"
   ]
  }
 ],
 "metadata": {
  "kernelspec": {
   "display_name": "Python 3",
   "language": "python",
   "name": "python3"
  },
  "language_info": {
   "codemirror_mode": {
    "name": "ipython",
    "version": 3
   },
   "file_extension": ".py",
   "mimetype": "text/x-python",
   "name": "python",
   "nbconvert_exporter": "python",
   "pygments_lexer": "ipython3",
   "version": "3.7.4"
  }
 },
 "nbformat": 4,
 "nbformat_minor": 4
}
